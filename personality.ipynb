{
 "cells": [
  {
   "cell_type": "markdown",
   "id": "a7ee4d37",
   "metadata": {},
   "source": [
    "- This dataset captures key indicators of extroversion and introversion, making it a valuable resource for psychologists, data scientists, and researchers studying social behavior, personality prediction, or data preprocessing techniques.\n",
    "\n",
    " \n",
    "> - Time_spent_Alone: Hours spent alone daily (0–11).  \n",
    "> - Stage_fear: Presence of stage fright (Yes/No).\n",
    "> - Social_event_attendance: Frequency of social events (0–10).\n",
    "> - Going_outside: Frequency of going outside (0–7).\n",
    "> - Drained_after_socializing: Feeling drained after socializing (Yes/No).\n",
    "> - Friends_circle_size: Number of close friends (0–15).\n",
    "> - Post_frequency: Social media post frequency (0–10).\n",
    "> - Personality: Target variable (Extrovert/Introvert).*"
   ]
  },
  {
   "cell_type": "code",
   "execution_count": 1,
   "id": "b4e98a20",
   "metadata": {},
   "outputs": [
    {
     "name": "stdout",
     "output_type": "stream",
     "text": [
      "Requirement already satisfied: pandas in c:\\users\\ngare\\ds_python_lux\\ds_projects\\extrovert asignment\\pers\\lib\\site-packages (2.3.0)\n",
      "Requirement already satisfied: matplotlib in c:\\users\\ngare\\ds_python_lux\\ds_projects\\extrovert asignment\\pers\\lib\\site-packages (3.10.3)\n",
      "Requirement already satisfied: numpy in c:\\users\\ngare\\ds_python_lux\\ds_projects\\extrovert asignment\\pers\\lib\\site-packages (2.3.1)\n",
      "Requirement already satisfied: seaborn in c:\\users\\ngare\\ds_python_lux\\ds_projects\\extrovert asignment\\pers\\lib\\site-packages (0.13.2)\n",
      "Requirement already satisfied: python-dateutil>=2.8.2 in c:\\users\\ngare\\ds_python_lux\\ds_projects\\extrovert asignment\\pers\\lib\\site-packages (from pandas) (2.9.0.post0)\n",
      "Requirement already satisfied: pytz>=2020.1 in c:\\users\\ngare\\ds_python_lux\\ds_projects\\extrovert asignment\\pers\\lib\\site-packages (from pandas) (2025.2)\n",
      "Requirement already satisfied: tzdata>=2022.7 in c:\\users\\ngare\\ds_python_lux\\ds_projects\\extrovert asignment\\pers\\lib\\site-packages (from pandas) (2025.2)\n",
      "Requirement already satisfied: contourpy>=1.0.1 in c:\\users\\ngare\\ds_python_lux\\ds_projects\\extrovert asignment\\pers\\lib\\site-packages (from matplotlib) (1.3.2)\n",
      "Requirement already satisfied: cycler>=0.10 in c:\\users\\ngare\\ds_python_lux\\ds_projects\\extrovert asignment\\pers\\lib\\site-packages (from matplotlib) (0.12.1)\n",
      "Requirement already satisfied: fonttools>=4.22.0 in c:\\users\\ngare\\ds_python_lux\\ds_projects\\extrovert asignment\\pers\\lib\\site-packages (from matplotlib) (4.58.5)\n",
      "Requirement already satisfied: kiwisolver>=1.3.1 in c:\\users\\ngare\\ds_python_lux\\ds_projects\\extrovert asignment\\pers\\lib\\site-packages (from matplotlib) (1.4.8)\n",
      "Requirement already satisfied: packaging>=20.0 in c:\\users\\ngare\\ds_python_lux\\ds_projects\\extrovert asignment\\pers\\lib\\site-packages (from matplotlib) (25.0)\n",
      "Requirement already satisfied: pillow>=8 in c:\\users\\ngare\\ds_python_lux\\ds_projects\\extrovert asignment\\pers\\lib\\site-packages (from matplotlib) (11.3.0)\n",
      "Requirement already satisfied: pyparsing>=2.3.1 in c:\\users\\ngare\\ds_python_lux\\ds_projects\\extrovert asignment\\pers\\lib\\site-packages (from matplotlib) (3.2.3)\n",
      "Requirement already satisfied: six>=1.5 in c:\\users\\ngare\\ds_python_lux\\ds_projects\\extrovert asignment\\pers\\lib\\site-packages (from python-dateutil>=2.8.2->pandas) (1.17.0)\n"
     ]
    },
    {
     "name": "stderr",
     "output_type": "stream",
     "text": [
      "\n",
      "[notice] A new release of pip is available: 25.0.1 -> 25.1.1\n",
      "[notice] To update, run: python.exe -m pip install --upgrade pip\n"
     ]
    },
    {
     "name": "stdout",
     "output_type": "stream",
     "text": [
      "Requirement already satisfied: scikit-learn in c:\\users\\ngare\\ds_python_lux\\ds_projects\\extrovert asignment\\pers\\lib\\site-packages (1.7.0)\n",
      "Requirement already satisfied: numpy>=1.22.0 in c:\\users\\ngare\\ds_python_lux\\ds_projects\\extrovert asignment\\pers\\lib\\site-packages (from scikit-learn) (2.3.1)\n",
      "Requirement already satisfied: scipy>=1.8.0 in c:\\users\\ngare\\ds_python_lux\\ds_projects\\extrovert asignment\\pers\\lib\\site-packages (from scikit-learn) (1.16.0)\n",
      "Requirement already satisfied: joblib>=1.2.0 in c:\\users\\ngare\\ds_python_lux\\ds_projects\\extrovert asignment\\pers\\lib\\site-packages (from scikit-learn) (1.5.1)\n",
      "Requirement already satisfied: threadpoolctl>=3.1.0 in c:\\users\\ngare\\ds_python_lux\\ds_projects\\extrovert asignment\\pers\\lib\\site-packages (from scikit-learn) (3.6.0)\n"
     ]
    },
    {
     "name": "stderr",
     "output_type": "stream",
     "text": [
      "\n",
      "[notice] A new release of pip is available: 25.0.1 -> 25.1.1\n",
      "[notice] To update, run: python.exe -m pip install --upgrade pip\n"
     ]
    }
   ],
   "source": [
    "#Install the dependencies\n",
    "!pip install pandas matplotlib numpy seaborn\n",
    "!pip install scikit-learn"
   ]
  },
  {
   "cell_type": "code",
   "execution_count": 55,
   "id": "37acca2a",
   "metadata": {},
   "outputs": [],
   "source": [
    "#import the dependencies\n",
    "import pandas as pd\n",
    "import numpy as np\n",
    "import seaborn as sns\n",
    "import matplotlib.pyplot as plt\n",
    "from sklearn.model_selection import train_test_split\n",
    "from sklearn.preprocessing import StandardScaler, MinMaxScaler\n",
    "from sklearn.metrics import classification_report, accuracy_score, confusion_matrix\n",
    "from sklearn.ensemble import RandomForestClassifier  # for classification\n",
    "from sklearn.preprocessing import OneHotEncoder\n",
    "from sklearn.tree import DecisionTreeClassifier\n",
    "from sklearn.ensemble import GradientBoostingClassifier\n",
    "from sklearn.neighbors import KNeighborsClassifier\n",
    "from sklearn.ensemble import StackingClassifier\n",
    "from sklearn.linear_model import LogisticRegression\n"
   ]
  },
  {
   "cell_type": "code",
   "execution_count": 3,
   "id": "a9ba242a",
   "metadata": {},
   "outputs": [
    {
     "data": {
      "text/html": [
       "<div>\n",
       "<style scoped>\n",
       "    .dataframe tbody tr th:only-of-type {\n",
       "        vertical-align: middle;\n",
       "    }\n",
       "\n",
       "    .dataframe tbody tr th {\n",
       "        vertical-align: top;\n",
       "    }\n",
       "\n",
       "    .dataframe thead th {\n",
       "        text-align: right;\n",
       "    }\n",
       "</style>\n",
       "<table border=\"1\" class=\"dataframe\">\n",
       "  <thead>\n",
       "    <tr style=\"text-align: right;\">\n",
       "      <th></th>\n",
       "      <th>Time_spent_Alone</th>\n",
       "      <th>Stage_fear</th>\n",
       "      <th>Social_event_attendance</th>\n",
       "      <th>Going_outside</th>\n",
       "      <th>Drained_after_socializing</th>\n",
       "      <th>Friends_circle_size</th>\n",
       "      <th>Post_frequency</th>\n",
       "      <th>Personality</th>\n",
       "    </tr>\n",
       "  </thead>\n",
       "  <tbody>\n",
       "    <tr>\n",
       "      <th>0</th>\n",
       "      <td>4.0</td>\n",
       "      <td>No</td>\n",
       "      <td>4.0</td>\n",
       "      <td>6.0</td>\n",
       "      <td>No</td>\n",
       "      <td>13.0</td>\n",
       "      <td>5.0</td>\n",
       "      <td>Extrovert</td>\n",
       "    </tr>\n",
       "    <tr>\n",
       "      <th>1</th>\n",
       "      <td>9.0</td>\n",
       "      <td>Yes</td>\n",
       "      <td>0.0</td>\n",
       "      <td>0.0</td>\n",
       "      <td>Yes</td>\n",
       "      <td>0.0</td>\n",
       "      <td>3.0</td>\n",
       "      <td>Introvert</td>\n",
       "    </tr>\n",
       "    <tr>\n",
       "      <th>2</th>\n",
       "      <td>9.0</td>\n",
       "      <td>Yes</td>\n",
       "      <td>1.0</td>\n",
       "      <td>2.0</td>\n",
       "      <td>Yes</td>\n",
       "      <td>5.0</td>\n",
       "      <td>2.0</td>\n",
       "      <td>Introvert</td>\n",
       "    </tr>\n",
       "    <tr>\n",
       "      <th>3</th>\n",
       "      <td>0.0</td>\n",
       "      <td>No</td>\n",
       "      <td>6.0</td>\n",
       "      <td>7.0</td>\n",
       "      <td>No</td>\n",
       "      <td>14.0</td>\n",
       "      <td>8.0</td>\n",
       "      <td>Extrovert</td>\n",
       "    </tr>\n",
       "    <tr>\n",
       "      <th>4</th>\n",
       "      <td>3.0</td>\n",
       "      <td>No</td>\n",
       "      <td>9.0</td>\n",
       "      <td>4.0</td>\n",
       "      <td>No</td>\n",
       "      <td>8.0</td>\n",
       "      <td>5.0</td>\n",
       "      <td>Extrovert</td>\n",
       "    </tr>\n",
       "  </tbody>\n",
       "</table>\n",
       "</div>"
      ],
      "text/plain": [
       "   Time_spent_Alone Stage_fear  Social_event_attendance  Going_outside  \\\n",
       "0               4.0         No                      4.0            6.0   \n",
       "1               9.0        Yes                      0.0            0.0   \n",
       "2               9.0        Yes                      1.0            2.0   \n",
       "3               0.0         No                      6.0            7.0   \n",
       "4               3.0         No                      9.0            4.0   \n",
       "\n",
       "  Drained_after_socializing  Friends_circle_size  Post_frequency Personality  \n",
       "0                        No                 13.0             5.0   Extrovert  \n",
       "1                       Yes                  0.0             3.0   Introvert  \n",
       "2                       Yes                  5.0             2.0   Introvert  \n",
       "3                        No                 14.0             8.0   Extrovert  \n",
       "4                        No                  8.0             5.0   Extrovert  "
      ]
     },
     "execution_count": 3,
     "metadata": {},
     "output_type": "execute_result"
    }
   ],
   "source": [
    "#load the dataset and display the first rows\n",
    "data = pd.read_csv(r'C:\\Users\\NGARE\\DS_Python_Lux\\Ds_projects\\Extrovert Asignment\\personality_datasert.csv')\n",
    "data.head()"
   ]
  },
  {
   "cell_type": "code",
   "execution_count": 4,
   "id": "7a5053d6",
   "metadata": {},
   "outputs": [
    {
     "data": {
      "text/html": [
       "<div>\n",
       "<style scoped>\n",
       "    .dataframe tbody tr th:only-of-type {\n",
       "        vertical-align: middle;\n",
       "    }\n",
       "\n",
       "    .dataframe tbody tr th {\n",
       "        vertical-align: top;\n",
       "    }\n",
       "\n",
       "    .dataframe thead th {\n",
       "        text-align: right;\n",
       "    }\n",
       "</style>\n",
       "<table border=\"1\" class=\"dataframe\">\n",
       "  <thead>\n",
       "    <tr style=\"text-align: right;\">\n",
       "      <th></th>\n",
       "      <th>Time_spent_Alone</th>\n",
       "      <th>Stage_fear</th>\n",
       "      <th>Social_event_attendance</th>\n",
       "      <th>Going_outside</th>\n",
       "      <th>Drained_after_socializing</th>\n",
       "      <th>Friends_circle_size</th>\n",
       "      <th>Post_frequency</th>\n",
       "      <th>Personality</th>\n",
       "    </tr>\n",
       "  </thead>\n",
       "  <tbody>\n",
       "    <tr>\n",
       "      <th>0</th>\n",
       "      <td>4.0</td>\n",
       "      <td>No</td>\n",
       "      <td>4.0</td>\n",
       "      <td>6.0</td>\n",
       "      <td>No</td>\n",
       "      <td>13.0</td>\n",
       "      <td>5.0</td>\n",
       "      <td>Extrovert</td>\n",
       "    </tr>\n",
       "    <tr>\n",
       "      <th>1</th>\n",
       "      <td>9.0</td>\n",
       "      <td>Yes</td>\n",
       "      <td>0.0</td>\n",
       "      <td>0.0</td>\n",
       "      <td>Yes</td>\n",
       "      <td>0.0</td>\n",
       "      <td>3.0</td>\n",
       "      <td>Introvert</td>\n",
       "    </tr>\n",
       "  </tbody>\n",
       "</table>\n",
       "</div>"
      ],
      "text/plain": [
       "   Time_spent_Alone Stage_fear  Social_event_attendance  Going_outside  \\\n",
       "0               4.0         No                      4.0            6.0   \n",
       "1               9.0        Yes                      0.0            0.0   \n",
       "\n",
       "  Drained_after_socializing  Friends_circle_size  Post_frequency Personality  \n",
       "0                        No                 13.0             5.0   Extrovert  \n",
       "1                       Yes                  0.0             3.0   Introvert  "
      ]
     },
     "execution_count": 4,
     "metadata": {},
     "output_type": "execute_result"
    }
   ],
   "source": [
    "#make a copy of the dataset\n",
    "\n",
    "df = data.copy()\n",
    "df.head(2)"
   ]
  },
  {
   "cell_type": "code",
   "execution_count": 5,
   "id": "b1de2947",
   "metadata": {},
   "outputs": [
    {
     "data": {
      "text/html": [
       "<div>\n",
       "<style scoped>\n",
       "    .dataframe tbody tr th:only-of-type {\n",
       "        vertical-align: middle;\n",
       "    }\n",
       "\n",
       "    .dataframe tbody tr th {\n",
       "        vertical-align: top;\n",
       "    }\n",
       "\n",
       "    .dataframe thead th {\n",
       "        text-align: right;\n",
       "    }\n",
       "</style>\n",
       "<table border=\"1\" class=\"dataframe\">\n",
       "  <thead>\n",
       "    <tr style=\"text-align: right;\">\n",
       "      <th></th>\n",
       "      <th>time_spent_alone</th>\n",
       "      <th>stage_fear</th>\n",
       "      <th>social_event_attendance</th>\n",
       "      <th>going_outside</th>\n",
       "      <th>drained_after_socializing</th>\n",
       "      <th>friends_circle_size</th>\n",
       "      <th>post_frequency</th>\n",
       "      <th>personality</th>\n",
       "    </tr>\n",
       "  </thead>\n",
       "  <tbody>\n",
       "    <tr>\n",
       "      <th>0</th>\n",
       "      <td>4.0</td>\n",
       "      <td>No</td>\n",
       "      <td>4.0</td>\n",
       "      <td>6.0</td>\n",
       "      <td>No</td>\n",
       "      <td>13.0</td>\n",
       "      <td>5.0</td>\n",
       "      <td>Extrovert</td>\n",
       "    </tr>\n",
       "    <tr>\n",
       "      <th>1</th>\n",
       "      <td>9.0</td>\n",
       "      <td>Yes</td>\n",
       "      <td>0.0</td>\n",
       "      <td>0.0</td>\n",
       "      <td>Yes</td>\n",
       "      <td>0.0</td>\n",
       "      <td>3.0</td>\n",
       "      <td>Introvert</td>\n",
       "    </tr>\n",
       "    <tr>\n",
       "      <th>2</th>\n",
       "      <td>9.0</td>\n",
       "      <td>Yes</td>\n",
       "      <td>1.0</td>\n",
       "      <td>2.0</td>\n",
       "      <td>Yes</td>\n",
       "      <td>5.0</td>\n",
       "      <td>2.0</td>\n",
       "      <td>Introvert</td>\n",
       "    </tr>\n",
       "    <tr>\n",
       "      <th>3</th>\n",
       "      <td>0.0</td>\n",
       "      <td>No</td>\n",
       "      <td>6.0</td>\n",
       "      <td>7.0</td>\n",
       "      <td>No</td>\n",
       "      <td>14.0</td>\n",
       "      <td>8.0</td>\n",
       "      <td>Extrovert</td>\n",
       "    </tr>\n",
       "    <tr>\n",
       "      <th>4</th>\n",
       "      <td>3.0</td>\n",
       "      <td>No</td>\n",
       "      <td>9.0</td>\n",
       "      <td>4.0</td>\n",
       "      <td>No</td>\n",
       "      <td>8.0</td>\n",
       "      <td>5.0</td>\n",
       "      <td>Extrovert</td>\n",
       "    </tr>\n",
       "  </tbody>\n",
       "</table>\n",
       "</div>"
      ],
      "text/plain": [
       "   time_spent_alone stage_fear  social_event_attendance  going_outside  \\\n",
       "0               4.0         No                      4.0            6.0   \n",
       "1               9.0        Yes                      0.0            0.0   \n",
       "2               9.0        Yes                      1.0            2.0   \n",
       "3               0.0         No                      6.0            7.0   \n",
       "4               3.0         No                      9.0            4.0   \n",
       "\n",
       "  drained_after_socializing  friends_circle_size  post_frequency personality  \n",
       "0                        No                 13.0             5.0   Extrovert  \n",
       "1                       Yes                  0.0             3.0   Introvert  \n",
       "2                       Yes                  5.0             2.0   Introvert  \n",
       "3                        No                 14.0             8.0   Extrovert  \n",
       "4                        No                  8.0             5.0   Extrovert  "
      ]
     },
     "execution_count": 5,
     "metadata": {},
     "output_type": "execute_result"
    }
   ],
   "source": [
    "#change columns to lower case\n",
    "df.columns = df.columns.str.lower()\n",
    "df.head()"
   ]
  },
  {
   "cell_type": "code",
   "execution_count": 6,
   "id": "a01b0197",
   "metadata": {},
   "outputs": [
    {
     "data": {
      "text/plain": [
       "(2900, 8)"
      ]
     },
     "execution_count": 6,
     "metadata": {},
     "output_type": "execute_result"
    }
   ],
   "source": [
    "# check the shape of the dataset. Dataset has 2900 rows and 8 columns\n",
    "\n",
    "df.shape"
   ]
  },
  {
   "cell_type": "code",
   "execution_count": 7,
   "id": "fc84d205",
   "metadata": {},
   "outputs": [
    {
     "data": {
      "text/html": [
       "<div>\n",
       "<style scoped>\n",
       "    .dataframe tbody tr th:only-of-type {\n",
       "        vertical-align: middle;\n",
       "    }\n",
       "\n",
       "    .dataframe tbody tr th {\n",
       "        vertical-align: top;\n",
       "    }\n",
       "\n",
       "    .dataframe thead th {\n",
       "        text-align: right;\n",
       "    }\n",
       "</style>\n",
       "<table border=\"1\" class=\"dataframe\">\n",
       "  <thead>\n",
       "    <tr style=\"text-align: right;\">\n",
       "      <th></th>\n",
       "      <th>count</th>\n",
       "      <th>mean</th>\n",
       "      <th>std</th>\n",
       "      <th>min</th>\n",
       "      <th>25%</th>\n",
       "      <th>50%</th>\n",
       "      <th>75%</th>\n",
       "      <th>max</th>\n",
       "    </tr>\n",
       "  </thead>\n",
       "  <tbody>\n",
       "    <tr>\n",
       "      <th>time_spent_alone</th>\n",
       "      <td>2900.0</td>\n",
       "      <td>4.505816</td>\n",
       "      <td>3.441180</td>\n",
       "      <td>0.0</td>\n",
       "      <td>2.0</td>\n",
       "      <td>4.000000</td>\n",
       "      <td>7.0</td>\n",
       "      <td>11.0</td>\n",
       "    </tr>\n",
       "    <tr>\n",
       "      <th>social_event_attendance</th>\n",
       "      <td>2900.0</td>\n",
       "      <td>3.963354</td>\n",
       "      <td>2.872608</td>\n",
       "      <td>0.0</td>\n",
       "      <td>2.0</td>\n",
       "      <td>3.963354</td>\n",
       "      <td>6.0</td>\n",
       "      <td>10.0</td>\n",
       "    </tr>\n",
       "    <tr>\n",
       "      <th>going_outside</th>\n",
       "      <td>2900.0</td>\n",
       "      <td>3.000000</td>\n",
       "      <td>2.221597</td>\n",
       "      <td>0.0</td>\n",
       "      <td>1.0</td>\n",
       "      <td>3.000000</td>\n",
       "      <td>5.0</td>\n",
       "      <td>7.0</td>\n",
       "    </tr>\n",
       "    <tr>\n",
       "      <th>friends_circle_size</th>\n",
       "      <td>2900.0</td>\n",
       "      <td>6.268863</td>\n",
       "      <td>4.232340</td>\n",
       "      <td>0.0</td>\n",
       "      <td>3.0</td>\n",
       "      <td>5.000000</td>\n",
       "      <td>10.0</td>\n",
       "      <td>15.0</td>\n",
       "    </tr>\n",
       "    <tr>\n",
       "      <th>post_frequency</th>\n",
       "      <td>2900.0</td>\n",
       "      <td>3.564727</td>\n",
       "      <td>2.893587</td>\n",
       "      <td>0.0</td>\n",
       "      <td>1.0</td>\n",
       "      <td>3.000000</td>\n",
       "      <td>6.0</td>\n",
       "      <td>10.0</td>\n",
       "    </tr>\n",
       "  </tbody>\n",
       "</table>\n",
       "</div>"
      ],
      "text/plain": [
       "                          count      mean       std  min  25%       50%   75%  \\\n",
       "time_spent_alone         2900.0  4.505816  3.441180  0.0  2.0  4.000000   7.0   \n",
       "social_event_attendance  2900.0  3.963354  2.872608  0.0  2.0  3.963354   6.0   \n",
       "going_outside            2900.0  3.000000  2.221597  0.0  1.0  3.000000   5.0   \n",
       "friends_circle_size      2900.0  6.268863  4.232340  0.0  3.0  5.000000  10.0   \n",
       "post_frequency           2900.0  3.564727  2.893587  0.0  1.0  3.000000   6.0   \n",
       "\n",
       "                          max  \n",
       "time_spent_alone         11.0  \n",
       "social_event_attendance  10.0  \n",
       "going_outside             7.0  \n",
       "friends_circle_size      15.0  \n",
       "post_frequency           10.0  "
      ]
     },
     "execution_count": 7,
     "metadata": {},
     "output_type": "execute_result"
    }
   ],
   "source": [
    "# Getting the dataset statistics\n",
    "df.describe().T"
   ]
  },
  {
   "cell_type": "code",
   "execution_count": 8,
   "id": "4ed03e65",
   "metadata": {},
   "outputs": [
    {
     "name": "stdout",
     "output_type": "stream",
     "text": [
      "<class 'pandas.core.frame.DataFrame'>\n",
      "RangeIndex: 2900 entries, 0 to 2899\n",
      "Data columns (total 8 columns):\n",
      " #   Column                     Non-Null Count  Dtype  \n",
      "---  ------                     --------------  -----  \n",
      " 0   time_spent_alone           2900 non-null   float64\n",
      " 1   stage_fear                 2900 non-null   object \n",
      " 2   social_event_attendance    2900 non-null   float64\n",
      " 3   going_outside              2900 non-null   float64\n",
      " 4   drained_after_socializing  2900 non-null   object \n",
      " 5   friends_circle_size        2900 non-null   float64\n",
      " 6   post_frequency             2900 non-null   float64\n",
      " 7   personality                2900 non-null   object \n",
      "dtypes: float64(5), object(3)\n",
      "memory usage: 181.4+ KB\n"
     ]
    }
   ],
   "source": [
    "#checking for datatypes\n",
    "\n",
    "df.info()"
   ]
  },
  {
   "cell_type": "code",
   "execution_count": 9,
   "id": "88a0ede5",
   "metadata": {},
   "outputs": [
    {
     "data": {
      "text/plain": [
       "time_spent_alone             0\n",
       "stage_fear                   0\n",
       "social_event_attendance      0\n",
       "going_outside                0\n",
       "drained_after_socializing    0\n",
       "friends_circle_size          0\n",
       "post_frequency               0\n",
       "personality                  0\n",
       "dtype: int64"
      ]
     },
     "execution_count": 9,
     "metadata": {},
     "output_type": "execute_result"
    }
   ],
   "source": [
    "#Checking for nulls\n",
    "\n",
    "df.isnull().sum()\n"
   ]
  },
  {
   "cell_type": "code",
   "execution_count": 10,
   "id": "b15f0851",
   "metadata": {},
   "outputs": [
    {
     "data": {
      "text/plain": [
       "402"
      ]
     },
     "execution_count": 10,
     "metadata": {},
     "output_type": "execute_result"
    }
   ],
   "source": [
    "#check for duplicates\n",
    "int(df.duplicated().sum())"
   ]
  },
  {
   "cell_type": "code",
   "execution_count": 11,
   "id": "6b9d36ca",
   "metadata": {},
   "outputs": [],
   "source": [
    "# Remove the duplicates from the dataset.\n",
    "# Dropping the duplicates will help reduce bias or overfitting in the model.\n",
    "\n",
    "df = df.drop_duplicates()"
   ]
  },
  {
   "cell_type": "code",
   "execution_count": 12,
   "id": "f26a2e5a",
   "metadata": {},
   "outputs": [
    {
     "data": {
      "text/plain": [
       "0"
      ]
     },
     "execution_count": 12,
     "metadata": {},
     "output_type": "execute_result"
    }
   ],
   "source": [
    "# checking if the duplicates have been dropped\n",
    "int(df.duplicated().sum())"
   ]
  },
  {
   "cell_type": "code",
   "execution_count": 13,
   "id": "d34045ce",
   "metadata": {},
   "outputs": [],
   "source": [
    "df.head(2)\n",
    "numerical_columns = ['time_spent_alone', 'social_event_attendance', 'going_outside', 'friends_circle_size',\t'post_frequency']\n",
    "categorical_cols = ['stage_fear','drained_after_socializing' ]\n",
    "target_column = ['personality']"
   ]
  },
  {
   "cell_type": "code",
   "execution_count": 14,
   "id": "5d5821be",
   "metadata": {},
   "outputs": [
    {
     "data": {
      "image/png": "[encoded data removed]",
      "text/plain": [
       "<Figure size 1500x1000 with 5 Axes>"
      ]
     },
     "metadata": {},
     "output_type": "display_data"
    }
   ],
   "source": [
    "# Checking for outliers in our dataset\n",
    "df.head(2)\n",
    "\n",
    "plt.figure(figsize = (15,10))\n",
    "for i in range(len(numerical_columns)):\n",
    "    plt.subplot(3,3,i+1)\n",
    "    sns.boxplot(y=numerical_columns[i], data = df)\n",
    "    plt.title(numerical_columns[i])\n",
    "plt.tight_layout\n",
    "plt.show()\n",
    "\n",
    "# The dataset has no outliers"
   ]
  },
  {
   "cell_type": "code",
   "execution_count": 15,
   "id": "be6438f8",
   "metadata": {},
   "outputs": [
    {
     "data": {
      "image/png": "[encoded data removed]",
      "text/plain": [
       "<Figure size 1500x1000 with 5 Axes>"
      ]
     },
     "metadata": {},
     "output_type": "display_data"
    }
   ],
   "source": [
    "#Checking fo data distribution using histogram\n",
    "plt.figure(figsize = (15,10))\n",
    "for i in range(len(numerical_columns)):\n",
    "    plt.subplot(3,3,i+1)\n",
    "    sns.histplot(x=numerical_columns[i], data = df)\n",
    "    #plt.title(df.columns[i])\n",
    "plt.tight_layout\n",
    "plt.show()\n"
   ]
  },
  {
   "cell_type": "code",
   "execution_count": 16,
   "id": "790ac710",
   "metadata": {},
   "outputs": [
    {
     "name": "stdout",
     "output_type": "stream",
     "text": [
      "<class 'pandas.core.frame.DataFrame'>\n",
      "Index: 2498 entries, 0 to 2899\n",
      "Data columns (total 8 columns):\n",
      " #   Column                     Non-Null Count  Dtype  \n",
      "---  ------                     --------------  -----  \n",
      " 0   time_spent_alone           2498 non-null   float64\n",
      " 1   stage_fear                 2498 non-null   object \n",
      " 2   social_event_attendance    2498 non-null   float64\n",
      " 3   going_outside              2498 non-null   float64\n",
      " 4   drained_after_socializing  2498 non-null   object \n",
      " 5   friends_circle_size        2498 non-null   float64\n",
      " 6   post_frequency             2498 non-null   float64\n",
      " 7   personality                2498 non-null   object \n",
      "dtypes: float64(5), object(3)\n",
      "memory usage: 175.6+ KB\n"
     ]
    }
   ],
   "source": [
    "df.info()"
   ]
  },
  {
   "cell_type": "code",
   "execution_count": 17,
   "id": "5c3fc56d",
   "metadata": {},
   "outputs": [
    {
     "data": {
      "text/html": [
       "<div>\n",
       "<style scoped>\n",
       "    .dataframe tbody tr th:only-of-type {\n",
       "        vertical-align: middle;\n",
       "    }\n",
       "\n",
       "    .dataframe tbody tr th {\n",
       "        vertical-align: top;\n",
       "    }\n",
       "\n",
       "    .dataframe thead th {\n",
       "        text-align: right;\n",
       "    }\n",
       "</style>\n",
       "<table border=\"1\" class=\"dataframe\">\n",
       "  <thead>\n",
       "    <tr style=\"text-align: right;\">\n",
       "      <th></th>\n",
       "      <th>time_spent_alone</th>\n",
       "      <th>stage_fear</th>\n",
       "      <th>social_event_attendance</th>\n",
       "      <th>going_outside</th>\n",
       "      <th>drained_after_socializing</th>\n",
       "      <th>friends_circle_size</th>\n",
       "      <th>post_frequency</th>\n",
       "      <th>personality</th>\n",
       "    </tr>\n",
       "  </thead>\n",
       "  <tbody>\n",
       "    <tr>\n",
       "      <th>0</th>\n",
       "      <td>4.0</td>\n",
       "      <td>No</td>\n",
       "      <td>4.0</td>\n",
       "      <td>6.0</td>\n",
       "      <td>No</td>\n",
       "      <td>13.0</td>\n",
       "      <td>5.0</td>\n",
       "      <td>Extrovert</td>\n",
       "    </tr>\n",
       "    <tr>\n",
       "      <th>1</th>\n",
       "      <td>9.0</td>\n",
       "      <td>Yes</td>\n",
       "      <td>0.0</td>\n",
       "      <td>0.0</td>\n",
       "      <td>Yes</td>\n",
       "      <td>0.0</td>\n",
       "      <td>3.0</td>\n",
       "      <td>Introvert</td>\n",
       "    </tr>\n",
       "  </tbody>\n",
       "</table>\n",
       "</div>"
      ],
      "text/plain": [
       "   time_spent_alone stage_fear  social_event_attendance  going_outside  \\\n",
       "0               4.0         No                      4.0            6.0   \n",
       "1               9.0        Yes                      0.0            0.0   \n",
       "\n",
       "  drained_after_socializing  friends_circle_size  post_frequency personality  \n",
       "0                        No                 13.0             5.0   Extrovert  \n",
       "1                       Yes                  0.0             3.0   Introvert  "
      ]
     },
     "execution_count": 17,
     "metadata": {},
     "output_type": "execute_result"
    }
   ],
   "source": [
    "df.head(2)"
   ]
  },
  {
   "cell_type": "code",
   "execution_count": 21,
   "id": "78119012",
   "metadata": {},
   "outputs": [
    {
     "data": {
      "text/html": [
       "<div>\n",
       "<style scoped>\n",
       "    .dataframe tbody tr th:only-of-type {\n",
       "        vertical-align: middle;\n",
       "    }\n",
       "\n",
       "    .dataframe tbody tr th {\n",
       "        vertical-align: top;\n",
       "    }\n",
       "\n",
       "    .dataframe thead th {\n",
       "        text-align: right;\n",
       "    }\n",
       "</style>\n",
       "<table border=\"1\" class=\"dataframe\">\n",
       "  <thead>\n",
       "    <tr style=\"text-align: right;\">\n",
       "      <th></th>\n",
       "      <th>time_spent_alone</th>\n",
       "      <th>social_event_attendance</th>\n",
       "      <th>going_outside</th>\n",
       "      <th>friends_circle_size</th>\n",
       "      <th>post_frequency</th>\n",
       "      <th>personality</th>\n",
       "      <th>stage_fear_Yes</th>\n",
       "      <th>drained_after_socializing_Yes</th>\n",
       "    </tr>\n",
       "  </thead>\n",
       "  <tbody>\n",
       "    <tr>\n",
       "      <th>0</th>\n",
       "      <td>4.0</td>\n",
       "      <td>4.0</td>\n",
       "      <td>6.0</td>\n",
       "      <td>13.0</td>\n",
       "      <td>5.0</td>\n",
       "      <td>Extrovert</td>\n",
       "      <td>0.0</td>\n",
       "      <td>0.0</td>\n",
       "    </tr>\n",
       "    <tr>\n",
       "      <th>1</th>\n",
       "      <td>9.0</td>\n",
       "      <td>0.0</td>\n",
       "      <td>0.0</td>\n",
       "      <td>0.0</td>\n",
       "      <td>3.0</td>\n",
       "      <td>Introvert</td>\n",
       "      <td>1.0</td>\n",
       "      <td>1.0</td>\n",
       "    </tr>\n",
       "    <tr>\n",
       "      <th>2</th>\n",
       "      <td>9.0</td>\n",
       "      <td>1.0</td>\n",
       "      <td>2.0</td>\n",
       "      <td>5.0</td>\n",
       "      <td>2.0</td>\n",
       "      <td>Introvert</td>\n",
       "      <td>1.0</td>\n",
       "      <td>1.0</td>\n",
       "    </tr>\n",
       "    <tr>\n",
       "      <th>3</th>\n",
       "      <td>0.0</td>\n",
       "      <td>6.0</td>\n",
       "      <td>7.0</td>\n",
       "      <td>14.0</td>\n",
       "      <td>8.0</td>\n",
       "      <td>Extrovert</td>\n",
       "      <td>0.0</td>\n",
       "      <td>0.0</td>\n",
       "    </tr>\n",
       "    <tr>\n",
       "      <th>4</th>\n",
       "      <td>3.0</td>\n",
       "      <td>9.0</td>\n",
       "      <td>4.0</td>\n",
       "      <td>8.0</td>\n",
       "      <td>5.0</td>\n",
       "      <td>Extrovert</td>\n",
       "      <td>0.0</td>\n",
       "      <td>0.0</td>\n",
       "    </tr>\n",
       "  </tbody>\n",
       "</table>\n",
       "</div>"
      ],
      "text/plain": [
       "   time_spent_alone  social_event_attendance  going_outside  \\\n",
       "0               4.0                      4.0            6.0   \n",
       "1               9.0                      0.0            0.0   \n",
       "2               9.0                      1.0            2.0   \n",
       "3               0.0                      6.0            7.0   \n",
       "4               3.0                      9.0            4.0   \n",
       "\n",
       "   friends_circle_size  post_frequency personality  stage_fear_Yes  \\\n",
       "0                 13.0             5.0   Extrovert             0.0   \n",
       "1                  0.0             3.0   Introvert             1.0   \n",
       "2                  5.0             2.0   Introvert             1.0   \n",
       "3                 14.0             8.0   Extrovert             0.0   \n",
       "4                  8.0             5.0   Extrovert             0.0   \n",
       "\n",
       "   drained_after_socializing_Yes  \n",
       "0                            0.0  \n",
       "1                            1.0  \n",
       "2                            1.0  \n",
       "3                            0.0  \n",
       "4                            0.0  "
      ]
     },
     "execution_count": 21,
     "metadata": {},
     "output_type": "execute_result"
    }
   ],
   "source": [
    "\n",
    "categorical_cols = ['stage_fear','drained_after_socializing' ]\n",
    "\n",
    "missing_cols = [col for col in categorical_cols if col not in df.columns]\n",
    "if missing_cols:\n",
    "    raise ValueError(f\"The following columns are missing in 'data': {missing_cols}\")\n",
    "\n",
    "OHE = OneHotEncoder(handle_unknown = 'ignore',sparse_output = False, drop = 'first').set_output(transform = 'pandas')\n",
    "encoded_o = OHE.fit_transform(df[categorical_cols])\n",
    "\n",
    "df = df.drop(columns = categorical_cols)\n",
    "df_encoded = pd.concat([df,encoded_o], axis = 1)\n",
    "\n",
    "df_encoded.head()"
   ]
  },
  {
   "cell_type": "code",
   "execution_count": null,
   "id": "1c4896f7",
   "metadata": {},
   "outputs": [],
   "source": []
  },
  {
   "cell_type": "code",
   "execution_count": 41,
   "id": "49d86cbe",
   "metadata": {},
   "outputs": [
    {
     "name": "stdout",
     "output_type": "stream",
     "text": [
      "x_train: (1998, 7), x_test: (500, 7)\n",
      "y_train: (1998,), y_test: (500,)\n"
     ]
    }
   ],
   "source": [
    "# MAchine learning using DecisionTrees\n",
    "\n",
    "x = df_encoded.drop(columns = 'personality')\n",
    "y =df_encoded['personality']\n",
    "\n",
    "x_train, x_test, y_train, y_test = train_test_split(x, y, test_size=0.2, random_state=42)\n",
    "\n",
    "print(f'x_train: {x_train.shape}, x_test: {x_test.shape}')\n",
    "print(f'y_train: {y_train.shape}, y_test: {y_test.shape}')\n",
    "\n"
   ]
  },
  {
   "cell_type": "code",
   "execution_count": 46,
   "id": "73474c00",
   "metadata": {},
   "outputs": [
    {
     "name": "stdout",
     "output_type": "stream",
     "text": [
      "              precision    recall  f1-score   support\n",
      "\n",
      "   Extrovert       0.93      0.90      0.91       279\n",
      "   Introvert       0.88      0.91      0.90       221\n",
      "\n",
      "    accuracy                           0.91       500\n",
      "   macro avg       0.90      0.91      0.91       500\n",
      "weighted avg       0.91      0.91      0.91       500\n",
      "\n",
      "\n",
      " Confusion Matrix\n",
      " [[251  28]\n",
      " [ 19 202]]\n"
     ]
    }
   ],
   "source": [
    "d_tree = DecisionTreeClassifier(criterion=\"entropy\", max_depth = 3)\n",
    "d_model = d_tree.fit(x_train,y_train)\n",
    "\n",
    "# Predict\n",
    "y_pred = d_model.predict(x_test)\n",
    "report = classification_report(y_test,y_pred)\n",
    "print(report)\n",
    "\n",
    "#Confusion matrix\n",
    "cm = confusion_matrix(y_test, y_pred)\n",
    "print(f'\\n Confusion Matrix\\n {cm}')"
   ]
  },
  {
   "cell_type": "code",
   "execution_count": 50,
   "id": "b62e5735",
   "metadata": {},
   "outputs": [
    {
     "name": "stdout",
     "output_type": "stream",
     "text": [
      "              precision    recall  f1-score   support\n",
      "\n",
      "   Extrovert       0.89      0.88      0.88       279\n",
      "   Introvert       0.85      0.86      0.86       221\n",
      "\n",
      "    accuracy                           0.87       500\n",
      "   macro avg       0.87      0.87      0.87       500\n",
      "weighted avg       0.87      0.87      0.87       500\n",
      "\n",
      "\n",
      " Confusion Matrix\n",
      " [[245  34]\n",
      " [ 30 191]]\n"
     ]
    },
    {
     "data": {
      "image/png": "[encoded data removed]",
      "text/plain": [
       "<Figure size 600x400 with 2 Axes>"
      ]
     },
     "metadata": {},
     "output_type": "display_data"
    }
   ],
   "source": [
    "# Machine learning using Random Forest\n",
    "r_forest = RandomForestClassifier(random_state=42)\n",
    "r_forest.fit(x_train, y_train)\n",
    "\n",
    "# Predict\n",
    "y_pred = r_forest.predict(x_test)\n",
    "report = classification_report(y_test,y_pred)\n",
    "print(report)\n",
    "\n",
    "#Confusion matrix\n",
    "cm = confusion_matrix(y_test, y_pred)\n",
    "print(f'\\n Confusion Matrix\\n {cm}')\n",
    "\n",
    "#[[TN FP]\n",
    "#[FN TP]]\n",
    "\n",
    "# Plot using sklearn built-in ConfusionMatrixDisplay\n",
    "labels = ['Extrovert', 'Introvert']\n",
    "cm_df = pd.DataFrame(cm, index=labels, columns=labels)\n",
    "\n",
    "plt.figure(figsize=(6,4))\n",
    "sns.heatmap(cm_df, annot=True, fmt='d', cmap='Reds')\n",
    "plt.ylabel('Actual')\n",
    "plt.xlabel('Predicted')\n",
    "plt.title('Confusion Matrix Heatmap')\n",
    "plt.show()"
   ]
  },
  {
   "cell_type": "code",
   "execution_count": 51,
   "id": "0949d574",
   "metadata": {},
   "outputs": [
    {
     "name": "stdout",
     "output_type": "stream",
     "text": [
      "Gradient Boosting Report:\n",
      "               precision    recall  f1-score   support\n",
      "\n",
      "   Extrovert       0.93      0.90      0.91       279\n",
      "   Introvert       0.88      0.92      0.90       221\n",
      "\n",
      "    accuracy                           0.91       500\n",
      "   macro avg       0.90      0.91      0.91       500\n",
      "weighted avg       0.91      0.91      0.91       500\n",
      "\n",
      "\n",
      " Confusion Matrix\n",
      " [[250  29]\n",
      " [ 18 203]]\n"
     ]
    },
    {
     "data": {
      "image/png": "[encoded data removed]",
      "text/plain": [
       "<Figure size 600x400 with 2 Axes>"
      ]
     },
     "metadata": {},
     "output_type": "display_data"
    }
   ],
   "source": [
    "# Machine learning using GBC\n",
    "g_boost = GradientBoostingClassifier(n_estimators=100, learning_rate=0.1, max_depth=3, random_state=42)\n",
    "g_boost.fit(x_train, y_train)\n",
    "y_pred_gbc = g_boost.predict(x_test)\n",
    "print(\"Gradient Boosting Report:\\n\", classification_report(y_test, y_pred_gbc))\n",
    "\n",
    "cm = confusion_matrix(y_test, y_pred_gbc)\n",
    "print(f'\\n Confusion Matrix\\n {cm}')\n",
    "\n",
    "\n",
    "#[[TN FP]\n",
    "#[FN TP]]\n",
    "\n",
    "# Plot using sklearn built-in ConfusionMatrixDisplay\n",
    "labels = ['Extrovert', 'Introvert']\n",
    "cm_df = pd.DataFrame(cm, index=labels, columns=labels)\n",
    "\n",
    "plt.figure(figsize=(6,4))\n",
    "sns.heatmap(cm_df, annot=True, fmt='d', cmap='Greens')\n",
    "plt.ylabel('Actual')\n",
    "plt.xlabel('Predicted')\n",
    "plt.title('Confusion Matrix Heatmap')\n",
    "plt.show()"
   ]
  },
  {
   "cell_type": "code",
   "execution_count": null,
   "id": "22984347",
   "metadata": {},
   "outputs": [],
   "source": [
    "# Machine learning using the XGBoost\n",
    "\n",
    "# Initialize and train the model\n",
    "# xgb = XGBClassifier(use_label_encoder=False, eval_metric='mlogloss', random_state=42)\n",
    "# xgb.fit(x_train, y_train)\n",
    "\n",
    "# Predict\n",
    "# y_pred_xgb = xgb.predict(x_test)\n",
    "\n",
    "# Evaluation\n",
    "# print(\"XGBoost Report:\\n\", classification_report(y_test, y_pred_xgb))"
   ]
  },
  {
   "cell_type": "code",
   "execution_count": 53,
   "id": "d5a9e83e",
   "metadata": {},
   "outputs": [
    {
     "name": "stdout",
     "output_type": "stream",
     "text": [
      "KNeighborsClassifier()\n",
      "\n",
      " Classification report\n",
      "               precision    recall  f1-score   support\n",
      "\n",
      "   Extrovert       0.93      0.90      0.91       279\n",
      "   Introvert       0.88      0.91      0.90       221\n",
      "\n",
      "    accuracy                           0.91       500\n",
      "   macro avg       0.90      0.91      0.91       500\n",
      "weighted avg       0.91      0.91      0.91       500\n",
      "\n",
      "\n",
      " Confusion Matrix\n",
      " [[251  28]\n",
      " [ 19 202]]\n"
     ]
    }
   ],
   "source": [
    "# Using KNN Classifier\n",
    "knn = KNeighborsClassifier(n_neighbors = 5)\n",
    "knn_fit = knn.fit(x_train, y_train)\n",
    "print(knn_fit)\n",
    "\n",
    "y_knn_pred = knn_fit.predict(x_test)\n",
    "\n",
    "#Evaluate the model\n",
    "report = classification_report(y_test, y_knn_pred)\n",
    "print(f'\\n Classification report\\n',report)\n",
    "\n",
    "#A confusion matrix is a summary table to evaluate the performance of a classification model\n",
    "#It shows how many predictions the model got right and how many it got wrong, by comparing the actual (test) labels with the predicted labels.\n",
    "\n",
    "cm = confusion_matrix(y_test, y_knn_pred)\n",
    "print(f'\\n Confusion Matrix\\n {cm}')\n",
    "\n",
    "\n",
    "#[[TN FP]\n",
    "#[FN TP]]"
   ]
  },
  {
   "cell_type": "markdown",
   "id": "80b016bd",
   "metadata": {},
   "source": [
    "## Stacking Classifier  \n",
    "\n",
    "> - Stacking combines predictions of multiple models and feeds them into a meta-model (usually simpler like Logistic Regression) to make the final prediction."
   ]
  },
  {
   "cell_type": "code",
   "execution_count": 56,
   "id": "5083deeb",
   "metadata": {},
   "outputs": [
    {
     "name": "stdout",
     "output_type": "stream",
     "text": [
      "Stacking Classifier Report:\n",
      "               precision    recall  f1-score   support\n",
      "\n",
      "   Extrovert       0.93      0.90      0.92       279\n",
      "   Introvert       0.88      0.92      0.90       221\n",
      "\n",
      "    accuracy                           0.91       500\n",
      "   macro avg       0.91      0.91      0.91       500\n",
      "weighted avg       0.91      0.91      0.91       500\n",
      "\n",
      "\n",
      " Confusion Matrix\n",
      " [[251  28]\n",
      " [ 18 203]]\n"
     ]
    }
   ],
   "source": [
    "# Base models\n",
    "estimators = [\n",
    "    ('rf', RandomForestClassifier(n_estimators=10, random_state=42)),\n",
    "    ('gb', GradientBoostingClassifier(n_estimators=10, random_state=42))\n",
    "]\n",
    "\n",
    "# Meta-model\n",
    "stack = StackingClassifier(estimators=estimators, final_estimator=LogisticRegression())\n",
    "\n",
    "# Train\n",
    "stack_fit = stack.fit(x_train, y_train)\n",
    "\n",
    "# Predict\n",
    "y_pred_stack = stack_fit.predict(x_test)\n",
    "print(\"Stacking Classifier Report:\\n\", classification_report(y_test, y_pred_stack))\n",
    "\n",
    "# Confusion matrix\n",
    "cm = confusion_matrix(y_test, y_pred_stack)\n",
    "print(f'\\n Confusion Matrix\\n {cm}')\n",
    "\n",
    "\n",
    "#[[TN FP]\n",
    "#[FN TP]]"
   ]
  }
 ],
 "metadata": {
  "kernelspec": {
   "display_name": "pers",
   "language": "python",
   "name": "python3"
  },
  "language_info": {
   "codemirror_mode": {
    "name": "ipython",
    "version": 3
   },
   "file_extension": ".py",
   "mimetype": "text/x-python",
   "name": "python",
   "nbconvert_exporter": "python",
   "pygments_lexer": "ipython3",
   "version": "3.13.3"
  }
 },
 "nbformat": 4,
 "nbformat_minor": 5
}
